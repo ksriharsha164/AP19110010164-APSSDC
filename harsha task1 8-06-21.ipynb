{
 "cells": [
  {
   "cell_type": "markdown",
   "id": "77a533ac",
   "metadata": {},
   "source": [
    "Write a program to check whether the user is eligible to vote or not"
   ]
  },
  {
   "cell_type": "code",
   "execution_count": 1,
   "id": "fa996795",
   "metadata": {},
   "outputs": [
    {
     "name": "stdout",
     "output_type": "stream",
     "text": [
      "Enter Your Age: 89\n",
      "You are eligible to vote!!\n"
     ]
    }
   ],
   "source": [
    "x=int(input(\"Enter Your Age: \"))\n",
    "if x>=18:\n",
    "    print(\"You are eligible to vote!!\")\n",
    "else:\n",
    "    print(\"You are not eligible to vote!!\")"
   ]
  },
  {
   "cell_type": "markdown",
   "id": "c7d53c12",
   "metadata": {},
   "source": [
    "Check the given number is positive or negative"
   ]
  },
  {
   "cell_type": "code",
   "execution_count": 2,
   "id": "feab1402",
   "metadata": {},
   "outputs": [
    {
     "name": "stdout",
     "output_type": "stream",
     "text": [
      "Enter number: 3\n",
      "Positive number\n"
     ]
    }
   ],
   "source": [
    "x=int(input(\"Enter number: \"))\n",
    "if x>=0:\n",
    "    print(\"Positive number\")\n",
    "else:\n",
    "    print(\"Negative number\")"
   ]
  },
  {
   "cell_type": "markdown",
   "id": "e4c76fd4",
   "metadata": {},
   "source": [
    "check the given number is even or odd if it's even check which is divisible by 4 or not"
   ]
  },
  {
   "cell_type": "code",
   "execution_count": 3,
   "id": "e21cb8a7",
   "metadata": {},
   "outputs": [
    {
     "name": "stdout",
     "output_type": "stream",
     "text": [
      "Enter number: 8\n",
      "Even Number\n",
      "It is divisible by 4\n"
     ]
    }
   ],
   "source": [
    "x=int(input(\"Enter number: \"))\n",
    "if x%2==0:\n",
    "    print(\"Even Number\")\n",
    "    if x%4==0:\n",
    "        print(\"It is divisible by 4\")\n",
    "    else:\n",
    "        print(\"It is not divisible by 4\")\n",
    "else:\n",
    "    print(\"Odd number\")"
   ]
  },
  {
   "cell_type": "markdown",
   "id": "2f443e0f",
   "metadata": {},
   "source": [
    "Write a program to print student grade based on percentage like Distinction,pass or fail"
   ]
  },
  {
   "cell_type": "code",
   "execution_count": 4,
   "id": "718beb72",
   "metadata": {},
   "outputs": [
    {
     "name": "stdout",
     "output_type": "stream",
     "text": [
      "Enter your grade: 3\n",
      "Fail\n"
     ]
    }
   ],
   "source": [
    "x=float(input(\"Enter your grade: \"))\n",
    "if x>=85:\n",
    "    print(\"Distinction Grade A \")\n",
    "elif x>=75:\n",
    "    print(\"Distinction Grade B\")\n",
    "elif x>=50:\n",
    "    print(\"Pass Grade C\")\n",
    "else:\n",
    "    print(\"Fail\")"
   ]
  },
  {
   "cell_type": "markdown",
   "id": "d696b750",
   "metadata": {},
   "source": [
    "Check the given year is Leap or not"
   ]
  },
  {
   "cell_type": "code",
   "execution_count": 5,
   "id": "db14095b",
   "metadata": {},
   "outputs": [
    {
     "name": "stdout",
     "output_type": "stream",
     "text": [
      "Enter Year: 45\n",
      "45 is not a Leap Year\n"
     ]
    }
   ],
   "source": [
    "x=int(input(\"Enter Year: \"))\n",
    "if x % 4 == 0 and x % 100 != 0:\n",
    "    print(x,\"is a Leap Year\")\n",
    "elif x % 100 == 0:\n",
    "    print(x,\"is not a Leap Year\")\n",
    "elif x % 400 ==0:\n",
    "    print(x,\"is a Leap Year\")\n",
    "else:\n",
    "    print(x,\"is not a Leap Year\")"
   ]
  },
  {
   "cell_type": "code",
   "execution_count": null,
   "id": "84ef5b1b",
   "metadata": {},
   "outputs": [],
   "source": []
  }
 ],
 "metadata": {
  "kernelspec": {
   "display_name": "Python 3",
   "language": "python",
   "name": "python3"
  },
  "language_info": {
   "codemirror_mode": {
    "name": "ipython",
    "version": 3
   },
   "file_extension": ".py",
   "mimetype": "text/x-python",
   "name": "python",
   "nbconvert_exporter": "python",
   "pygments_lexer": "ipython3",
   "version": "3.8.8"
  }
 },
 "nbformat": 4,
 "nbformat_minor": 5
}
